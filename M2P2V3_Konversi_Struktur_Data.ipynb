{
  "nbformat": 4,
  "nbformat_minor": 0,
  "metadata": {
    "colab": {
      "name": "M2P2V3_Konversi Struktur Data.ipynb",
      "provenance": []
    },
    "kernelspec": {
      "name": "python3",
      "display_name": "Python 3"
    },
    "language_info": {
      "name": "python"
    }
  },
  "cells": [
    {
      "cell_type": "markdown",
      "source": [
        "## Konserversi struktur data"
      ],
      "metadata": {
        "id": "f3Tzn54ARTVs"
      }
    },
    {
      "cell_type": "markdown",
      "source": [
        "fungsi untuk mengubah struktur data\n",
        "a. list() : untuk mengubah menjadi list\n",
        "b. tuple(): untuk mengubah menjadi tuple\n",
        "c. set() : untuk mengubah menjadi set\n",
        "d. dict(): untuk mengubah menjadi dictionary"
      ],
      "metadata": {
        "id": "SB-0H4qTRliJ"
      }
    },
    {
      "cell_type": "markdown",
      "source": [
        "# mengkonversi tipe data list"
      ],
      "metadata": {
        "id": "7OnTZ5GzSByr"
      }
    },
    {
      "cell_type": "code",
      "execution_count": 13,
      "metadata": {
        "id": "claE8l_E9UDK"
      },
      "outputs": [],
      "source": [
        "# mengubah 2 list\n",
        "L1 = [1,2,3,4]\n",
        "L2 = [5,6,7,8]"
      ]
    },
    {
      "cell_type": "code",
      "source": [
        "# mengonversi struktur data list\n",
        "k_tuple = tuple(L1)\n",
        "k_set = set(L2)\n",
        "k_dict = dict(zip(L1,L2))\n",
        "# melihat data uang telah di konversi\n",
        "print(k_tuple)\n",
        "print(k_set)\n",
        "print(k_dict)"
      ],
      "metadata": {
        "colab": {
          "base_uri": "https://localhost:8080/"
        },
        "id": "LfG73ijTSVSL",
        "outputId": "d914b106-ed48-4fa0-8a63-f179fe019627"
      },
      "execution_count": 14,
      "outputs": [
        {
          "output_type": "stream",
          "name": "stdout",
          "text": [
            "(1, 2, 3, 4)\n",
            "{8, 5, 6, 7}\n",
            "{1: 5, 2: 6, 3: 7, 4: 8}\n"
          ]
        }
      ]
    },
    {
      "cell_type": "markdown",
      "source": [
        "# mengkonversi tipe data tuple"
      ],
      "metadata": {
        "id": "8lhZMm-YTHMj"
      }
    },
    {
      "cell_type": "code",
      "source": [
        "# membuat dua tuple\n",
        "T1 = (1,2,3,4)\n",
        "T2 = (5,6,7,8)"
      ],
      "metadata": {
        "id": "f388ARYWSzr1"
      },
      "execution_count": 15,
      "outputs": []
    },
    {
      "cell_type": "code",
      "source": [
        "#mengkonversi struktur data tuple\n",
        "k_list = list(T1)\n",
        "k_set = set(T2)\n",
        "k_dict = dict(zip(T1,T2))\n",
        "#melihat dayta yang telah di konversi\n",
        "print(k_list)\n",
        "print(k_set)\n",
        "print(k_dict)"
      ],
      "metadata": {
        "colab": {
          "base_uri": "https://localhost:8080/"
        },
        "id": "2v0glvB4TU8o",
        "outputId": "64fbd6f8-39ec-4f5a-cd99-e6524fd13035"
      },
      "execution_count": 16,
      "outputs": [
        {
          "output_type": "stream",
          "name": "stdout",
          "text": [
            "[1, 2, 3, 4]\n",
            "{8, 5, 6, 7}\n",
            "{1: 5, 2: 6, 3: 7, 4: 8}\n"
          ]
        }
      ]
    },
    {
      "cell_type": "markdown",
      "source": [
        "#konversi tipe data set"
      ],
      "metadata": {
        "id": "Pll_ObYPUBbb"
      }
    },
    {
      "cell_type": "code",
      "source": [
        "#membuat data set\n",
        "S1 = {1,2,3,4}\n",
        "S2 = {5,6,7,8}"
      ],
      "metadata": {
        "id": "iHaWAkgfUTUV"
      },
      "execution_count": 17,
      "outputs": []
    },
    {
      "cell_type": "code",
      "source": [
        "#mengkonversi struktur data set\n",
        "k_list = list(S1)\n",
        "k_tuple = tuple(S2)\n",
        "K_dict = dict(zip(S1,S2))"
      ],
      "metadata": {
        "id": "N2iKUCibUs1w"
      },
      "execution_count": 18,
      "outputs": []
    },
    {
      "cell_type": "markdown",
      "source": [
        "#konversi tipe data list"
      ],
      "metadata": {
        "id": "GQcb165aVZnf"
      }
    },
    {
      "cell_type": "code",
      "source": [
        "#membuat dictionary \n",
        "D = {\n",
        "    \"nama\":\"andi\",\n",
        "     \"alamat\":\"yogyakarta\",\n",
        "     \"umur\":20\n",
        "}"
      ],
      "metadata": {
        "id": "dKM_XkmfVdfw"
      },
      "execution_count": 19,
      "outputs": []
    },
    {
      "cell_type": "code",
      "source": [
        "#konversi struktur data dictionary dari key value-nya\n",
        "k_list = list(D.keys())\n",
        "k_tuple = tuple(D.values())\n",
        "k_set = set(D.keys())\n",
        "#melihat data yang telah dikonversikan\n",
        "print(k_list)\n",
        "print(k_tuple)\n",
        "print(k_set)"
      ],
      "metadata": {
        "colab": {
          "base_uri": "https://localhost:8080/"
        },
        "id": "Xi1IlryvVvjt",
        "outputId": "09f931cc-731a-457e-b4c2-4d18079b94da"
      },
      "execution_count": 20,
      "outputs": [
        {
          "output_type": "stream",
          "name": "stdout",
          "text": [
            "['nama', 'alamat', 'umur']\n",
            "('andi', 'yogyakarta', 20)\n",
            "{'umur', 'alamat', 'nama'}\n"
          ]
        }
      ]
    },
    {
      "cell_type": "markdown",
      "source": [
        "latihan"
      ],
      "metadata": {
        "id": "epFbYTnfdmwd"
      }
    },
    {
      "cell_type": "code",
      "source": [
        "#set\n",
        "sEt = {11,23,\"wildan\",\"mutiara\",True,11+23j}\n",
        "SeT = {1,2,3,4,5,6}\n",
        "kl = list(sEt)\n",
        "kt = tuple(sEt)\n",
        "k_dict = dict(zip(sEt,SeT))\n",
        "print(k_dict)\n",
        "print(kt)\n",
        "print(kl)"
      ],
      "metadata": {
        "colab": {
          "base_uri": "https://localhost:8080/"
        },
        "id": "BHLhozFYW2wU",
        "outputId": "0048aab2-033e-48c6-cc05-1f13f6a683bd"
      },
      "execution_count": 25,
      "outputs": [
        {
          "output_type": "stream",
          "name": "stdout",
          "text": [
            "{True: 1, 11: 2, 'wildan': 3, 'mutiara': 4, (11+23j): 5, 23: 6}\n",
            "(True, 11, 'wildan', 'mutiara', (11+23j), 23)\n",
            "[True, 11, 'wildan', 'mutiara', (11+23j), 23]\n"
          ]
        }
      ]
    },
    {
      "cell_type": "code",
      "source": [
        "#dictionary\n",
        "wildan = {11:'HBD',\"mutiara\":23}\n",
        "a = list(wildan.values())\n",
        "b = tuple(wildan.keys())\n",
        "c = set(wildan.keys())\n",
        "print(a)\n",
        "print(b)\n",
        "print(c)"
      ],
      "metadata": {
        "colab": {
          "base_uri": "https://localhost:8080/"
        },
        "id": "R_c1T0sKfULP",
        "outputId": "71f1a1c5-5bdf-4e7c-9209-067ce4d9b9ae"
      },
      "execution_count": 26,
      "outputs": [
        {
          "output_type": "stream",
          "name": "stdout",
          "text": [
            "['HBD', 23]\n",
            "(11, 'mutiara')\n",
            "{11, 'mutiara'}\n"
          ]
        }
      ]
    },
    {
      "cell_type": "code",
      "source": [
        "# tuple\n",
        "a = (22,\"kosong tiga\",False,11+29j,11+29j)\n",
        "b = (1,2,3,4,5)\n",
        "c = set(a)\n",
        "d = list(a)\n",
        "e = dict(zip(a,b))\n",
        "print(c)\n",
        "print(d)\n",
        "print(e)"
      ],
      "metadata": {
        "colab": {
          "base_uri": "https://localhost:8080/"
        },
        "id": "-ymcjjjJg0Wj",
        "outputId": "3daedbc2-022c-490f-fca4-54aae98ab3fe"
      },
      "execution_count": 28,
      "outputs": [
        {
          "output_type": "stream",
          "name": "stdout",
          "text": [
            "{'kosong tiga', False, (11+29j), 22}\n",
            "[22, 'kosong tiga', False, (11+29j), (11+29j)]\n",
            "{22: 1, 'kosong tiga': 2, False: 3, (11+29j): 5}\n"
          ]
        }
      ]
    },
    {
      "cell_type": "code",
      "source": [
        "#list\n",
        "a = [2,1,0,0,0,1,5,0,4,9]\n",
        "b = ['wisnu','wildan','11','uad']\n",
        "c = [1,2,3,4]\n",
        "d = set(a)\n",
        "e = tuple(b)\n",
        "f = dict(zip(b,c))\n",
        "print(d)\n",
        "print(e)\n",
        "print(f)"
      ],
      "metadata": {
        "colab": {
          "base_uri": "https://localhost:8080/"
        },
        "id": "Kk3dFUgYhwhB",
        "outputId": "00e7aa6d-2d74-4af1-9699-23272c81351d"
      },
      "execution_count": 29,
      "outputs": [
        {
          "output_type": "stream",
          "name": "stdout",
          "text": [
            "{0, 1, 2, 4, 5, 9}\n",
            "('wisnu', 'wildan', '11', 'uad')\n",
            "{'wisnu': 1, 'wildan': 2, '11': 3, 'uad': 4}\n"
          ]
        }
      ]
    }
  ]
}