{
  "nbformat": 4,
  "nbformat_minor": 0,
  "metadata": {
    "colab": {
      "name": "M2P1V2_Struktur_Data_List .ipynb",
      "provenance": []
    },
    "kernelspec": {
      "name": "python3",
      "display_name": "Python 3"
    },
    "language_info": {
      "name": "python"
    }
  },
  "cells": [
    {
      "cell_type": "markdown",
      "source": [
        "## list\n"
      ],
      "metadata": {
        "id": "TU1cB6EQX5dL"
      }
    },
    {
      "cell_type": "markdown",
      "source": [
        "list adalah jenis kumpulan data terurut(ordered sequence), dana merupakan salah satu variabel yang sering digunakan pada pyhton serupa,namun tak sama dengan array pada bahasa lainnya. bedanya,elemen List pada pyhton tidak harus memiliki type yang sama. Mendekralasikan list cukup mudah dengan kurung siku dan elemen yang dipisahkan dengan koma(,)\n",
        "setiap data di dalamnya dapat diakses dengan indeks yang mulai dari 0"
      ],
      "metadata": {
        "id": "FojhalpAX_yK"
      }
    },
    {
      "cell_type": "code",
      "source": [
        "#contoh List\n",
        "L1 = [1,4,2,13]\n",
        "print(type(L1))"
      ],
      "metadata": {
        "colab": {
          "base_uri": "https://localhost:8080/"
        },
        "id": "XViGD1PjZDvf",
        "outputId": "c0f70910-b63d-4060-b960-2d3efe5c42fe"
      },
      "execution_count": null,
      "outputs": [
        {
          "output_type": "stream",
          "name": "stdout",
          "text": [
            "<class 'list'>\n"
          ]
        }
      ]
    },
    {
      "cell_type": "code",
      "source": [
        "L2 = [\"a\",\"python\",3]\n",
        "L2"
      ],
      "metadata": {
        "colab": {
          "base_uri": "https://localhost:8080/"
        },
        "id": "Gp1oC98tZMvv",
        "outputId": "88ecda05-26ea-4136-caff-f19392630828"
      },
      "execution_count": null,
      "outputs": [
        {
          "output_type": "execute_result",
          "data": {
            "text/plain": [
              "['a', 'python', 3]"
            ]
          },
          "metadata": {},
          "execution_count": 3
        }
      ]
    },
    {
      "cell_type": "code",
      "source": [
        "print(L1)\n",
        "print(L2)"
      ],
      "metadata": {
        "colab": {
          "base_uri": "https://localhost:8080/"
        },
        "id": "UKUPYBvjZXyx",
        "outputId": "236e85ae-82fd-420e-963d-a2ee79dd2714"
      },
      "execution_count": null,
      "outputs": [
        {
          "output_type": "stream",
          "name": "stdout",
          "text": [
            "[1, 4, 2, 13]\n",
            "['a', 'python', 3]\n"
          ]
        }
      ]
    },
    {
      "cell_type": "markdown",
      "source": [
        "Latihan 1"
      ],
      "metadata": {
        "id": "g-UlGqdkaXLf"
      }
    },
    {
      "cell_type": "code",
      "source": [
        "a = [2,1,0,0,0,1,5,0,4,9]\n",
        "b = ['wisnu','wildan','11','uad']\n",
        "print(type(a))\n",
        "print(a)\n",
        "print(b)"
      ],
      "metadata": {
        "colab": {
          "base_uri": "https://localhost:8080/"
        },
        "id": "gkBurctIZzsR",
        "outputId": "85559d11-b44f-453a-a4a1-cf0666a0e656"
      },
      "execution_count": null,
      "outputs": [
        {
          "output_type": "stream",
          "name": "stdout",
          "text": [
            "<class 'list'>\n",
            "[2, 1, 0, 0, 0, 1, 5, 0, 4, 9]\n",
            "['wisnu', 'wildan', '11', 'uad']\n"
          ]
        }
      ]
    },
    {
      "cell_type": "markdown",
      "source": [
        "indeks di python (list,tuple) mulai dari 0"
      ],
      "metadata": {
        "id": "hvQ-dABqaaGa"
      }
    },
    {
      "cell_type": "code",
      "source": [
        "#sifat-sifat list\n",
        "#terurut/ordered\n",
        "print('memanggil list L1 dengan urutan :',L1[0:3])\n",
        "#Bisa diganti/mutable\n",
        "L1[1] = 2\n",
        "print('list L1 setelah diganti elemennya',L1)\n",
        "L1 = [1,\"dua\",True,2+3j]\n",
        "\n",
        "#Dapat diindeks/sclicing\n",
        "print(\"sclicing list L1\",L1[3])\n",
        "#dapat diijinkan duplikasi\n",
        "L1 = [1,\"dua\",True,2+3j,2+3j]\n",
        "print('duplikasi pada list L1:',L1)"
      ],
      "metadata": {
        "colab": {
          "base_uri": "https://localhost:8080/"
        },
        "id": "cp1dzwRCeXTE",
        "outputId": "c03d8953-ec39-4559-cf70-edc8dcd9fbb9"
      },
      "execution_count": null,
      "outputs": [
        {
          "output_type": "stream",
          "name": "stdout",
          "text": [
            "memanggil list L1 dengan urutan : [1, 4, 2]\n",
            "list L1 setelah diganti elemennya [1, 2, 2, 13]\n",
            "sclicing list L1 (2+3j)\n",
            "duplikasi pada list L1: [1, 'dua', True, (2+3j), (2+3j)]\n"
          ]
        }
      ]
    },
    {
      "cell_type": "markdown",
      "source": [
        "latihan 2"
      ],
      "metadata": {
        "id": "xlyWi202ejFU"
      }
    },
    {
      "cell_type": "code",
      "source": [
        "#ganti elemen yang ada pada list yang kalian buat\n",
        "#sifat-sifat list\n",
        "#terurut/ordered\n",
        "print('memanggil list a dengan urutan :',a[2:6])\n",
        "#Bisa diganti/mutable\n",
        "a[5] = 2\n",
        "print('list L1 setelah diganti elemennya',a)\n",
        "a = [22,\"kosong tiga\",False,11+29j]\n",
        "\n",
        "#Dapat diindeks/sclicing\n",
        "print(\"sclicing list a\",a[2])\n",
        "#dapat diijinkan duplikasi\n",
        "a = [22,\"kosong tiga\",False,11+29j,11+29j]\n",
        "print('duplikasi pada list a:',a)"
      ],
      "metadata": {
        "colab": {
          "base_uri": "https://localhost:8080/"
        },
        "id": "TcvNeHkueRxo",
        "outputId": "9eac908a-4c8e-4291-dd21-4918935e28d1"
      },
      "execution_count": null,
      "outputs": [
        {
          "output_type": "stream",
          "name": "stdout",
          "text": [
            "memanggil list a dengan urutan : [0, 0, 0, 1]\n",
            "list L1 setelah diganti elemennya [2, 1, 0, 0, 0, 2, 5, 0, 4, 9]\n",
            "sclicing list a False\n",
            "duplikasi pada list a: [22, 'kosong tiga', False, (11+29j), (11+29j)]\n"
          ]
        }
      ]
    }
  ]
}