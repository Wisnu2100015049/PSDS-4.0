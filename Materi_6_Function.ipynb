{
  "nbformat": 4,
  "nbformat_minor": 0,
  "metadata": {
    "colab": {
      "name": "Materi 6_Function.ipynb",
      "provenance": []
    },
    "kernelspec": {
      "name": "python3",
      "display_name": "Python 3"
    },
    "language_info": {
      "name": "python"
    }
  },
  "cells": [
    {
      "cell_type": "markdown",
      "source": [
        "##function"
      ],
      "metadata": {
        "id": "mMZGWEjhm2LA"
      }
    },
    {
      "cell_type": "code",
      "execution_count": 1,
      "metadata": {
        "colab": {
          "base_uri": "https://localhost:8080/"
        },
        "id": "dZJ_K0JKl7nj",
        "outputId": "5d16bdb5-0acf-47de-9d6e-fe64a2fc75e1"
      },
      "outputs": [
        {
          "output_type": "stream",
          "name": "stdout",
          "text": [
            "budi\n"
          ]
        }
      ],
      "source": [
        "def print_nama(nama): # 'nama' adalah parameter\n",
        "     print(nama)\n",
        "print_nama('budi') # 'budi' adalah argumen"
      ]
    },
    {
      "cell_type": "code",
      "source": [
        "def angka(a,b,c):\n",
        "  print(a,b,c)\n",
        "#argumen posisi\n",
        "#argumen berdasarkan posisinya\n",
        "angka(1,2,3)\n",
        "\n",
        "#argumen  berdasarkan kata kuncinya\n",
        "angka(a=1, b=2,c=3 )\n",
        "angka(c=3,b=2,a=1)\n",
        "#catatan :jika sudah diberi kunci mak urutan tidak menjadi penting\n",
        "\n",
        "# campuran antara argumen posisi dan argumen kata kunci \n",
        "angka(1,b=2,c=3)\n",
        "\n",
        "#ini tidak diijinkan :\n",
        "#foo(1,b=2,3)#argumen posisional setelah argumen kunci\n",
        "#foo(1,b=2,a=3)# terdapat dua nilai untuk argumen kunci  'a'"
      ],
      "metadata": {
        "colab": {
          "base_uri": "https://localhost:8080/"
        },
        "id": "nUXXYW_0pJTE",
        "outputId": "57bb456c-1b6e-4846-d661-5a8d3dd912c7"
      },
      "execution_count": 2,
      "outputs": [
        {
          "output_type": "stream",
          "name": "stdout",
          "text": [
            "1 2 3\n",
            "1 2 3\n",
            "1 2 3\n",
            "1 2 3\n"
          ]
        }
      ]
    },
    {
      "cell_type": "code",
      "source": [
        "#argumen default\n",
        "def angka2(a,b,c,d=4):\n",
        "  print(a,b,c,d)\n",
        "\n",
        "angka2(1,2,3,4)\n",
        "angka2(1,b=2,c=3,d=100)\n",
        "\n",
        "#argumen default harus diletakan terakhir"
      ],
      "metadata": {
        "colab": {
          "base_uri": "https://localhost:8080/"
        },
        "id": "oofRusjSqkbH",
        "outputId": "36e89a20-44f6-4505-c32e-847d2c4a7abc"
      },
      "execution_count": 4,
      "outputs": [
        {
          "output_type": "stream",
          "name": "stdout",
          "text": [
            "1 2 3 4\n",
            "1 2 3 100\n"
          ]
        }
      ]
    },
    {
      "cell_type": "code",
      "source": [
        "x = 1\n",
        "y = 2\n",
        "x*y"
      ],
      "metadata": {
        "colab": {
          "base_uri": "https://localhost:8080/"
        },
        "id": "EHRbXUI_rmwu",
        "outputId": "563cb431-4fd1-4334-f934-fa6c14c6b916"
      },
      "execution_count": 5,
      "outputs": [
        {
          "output_type": "execute_result",
          "data": {
            "text/plain": [
              "2"
            ]
          },
          "metadata": {},
          "execution_count": 5
        }
      ]
    },
    {
      "cell_type": "code",
      "source": [
        "def penjumlahan(x,y):\n",
        "  a = x+y\n",
        "  return a\n",
        "penjumlahan(1,2)"
      ],
      "metadata": {
        "colab": {
          "base_uri": "https://localhost:8080/"
        },
        "id": "A3MmVQ0nrsS6",
        "outputId": "bced978c-dad1-412b-f366-c857b1881536"
      },
      "execution_count": 6,
      "outputs": [
        {
          "output_type": "execute_result",
          "data": {
            "text/plain": [
              "3"
            ]
          },
          "metadata": {},
          "execution_count": 6
        }
      ]
    },
    {
      "cell_type": "code",
      "source": [
        "def penjumlahan(x,y,z=None):\n",
        "  if (z==None):\n",
        "    return x+y\n",
        "  else:\n",
        "    return x+y+z\n",
        "print(penjumlahan(1,2))\n",
        "print(penjumlahan(1,2,3))"
      ],
      "metadata": {
        "colab": {
          "base_uri": "https://localhost:8080/"
        },
        "id": "niS9gAgOr31I",
        "outputId": "936d5090-8435-49e4-b920-f267296746f8"
      },
      "execution_count": 7,
      "outputs": [
        {
          "output_type": "stream",
          "name": "stdout",
          "text": [
            "3\n",
            "6\n"
          ]
        }
      ]
    },
    {
      "cell_type": "code",
      "source": [
        "def penjumlahan(x,y):\n",
        "  a = x+y\n",
        "  return a\n",
        "a = penjumlahan\n",
        "a(1,2)"
      ],
      "metadata": {
        "colab": {
          "base_uri": "https://localhost:8080/"
        },
        "id": "qWuxGrbKsW4l",
        "outputId": "d4b2a232-865b-4327-9536-319105619bc9"
      },
      "execution_count": 8,
      "outputs": [
        {
          "output_type": "execute_result",
          "data": {
            "text/plain": [
              "3"
            ]
          },
          "metadata": {},
          "execution_count": 8
        }
      ]
    },
    {
      "cell_type": "markdown",
      "source": [
        "latihan 1 \n",
        "membuat function pythagoras dengan parameter panjang tinggi dan alas segitiga"
      ],
      "metadata": {
        "id": "DSePVAh5Eulz"
      }
    },
    {
      "cell_type": "code",
      "source": [
        "import math\n",
        "def pythagoras(panjang_tinggi,alas_segitiga):\n",
        "  de = panjang_tinggi\n",
        "  sa = alas_segitiga\n",
        "  mi = math.sqrt(de**2+sa**2)\n",
        "  return mi\n",
        "pythagoras(3,4)"
      ],
      "metadata": {
        "colab": {
          "base_uri": "https://localhost:8080/"
        },
        "id": "LWoWkEx8s51I",
        "outputId": "71a057a9-31a0-4b2d-82fc-f9cc7f05c808"
      },
      "execution_count": 11,
      "outputs": [
        {
          "output_type": "execute_result",
          "data": {
            "text/plain": [
              "5.0"
            ]
          },
          "metadata": {},
          "execution_count": 11
        }
      ]
    },
    {
      "cell_type": "markdown",
      "source": [
        "latihan2 membuat function luas balok dengan parameter panjang,tinggi,lebar"
      ],
      "metadata": {
        "id": "Uk07RNvIE9ei"
      }
    },
    {
      "cell_type": "code",
      "source": [
        "def luas_permukaan_balok(panjang,lebar,tinggi):\n",
        "  p=panjang\n",
        "  t = tinggi\n",
        "  l=lebar\n",
        "  luas = 2*(p*l+p*t+l*t)\n",
        "  return luas\n",
        "luas_permukaan_balok(8,6,4)"
      ],
      "metadata": {
        "colab": {
          "base_uri": "https://localhost:8080/"
        },
        "id": "DExdeO_gt7iq",
        "outputId": "71695dec-ca3d-4f72-b8a5-0a50eeb2488d"
      },
      "execution_count": 10,
      "outputs": [
        {
          "output_type": "execute_result",
          "data": {
            "text/plain": [
              "208"
            ]
          },
          "metadata": {},
          "execution_count": 10
        }
      ]
    }
  ]
}