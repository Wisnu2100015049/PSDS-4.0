{
  "nbformat": 4,
  "nbformat_minor": 0,
  "metadata": {
    "colab": {
      "name": "M2P2V1_Struktur_Data_Set.ipynb",
      "provenance": []
    },
    "kernelspec": {
      "name": "python3",
      "display_name": "Python 3"
    },
    "language_info": {
      "name": "python"
    }
  },
  "cells": [
    {
      "cell_type": "markdown",
      "source": [
        "##set\n"
      ],
      "metadata": {
        "id": "6_1NhCrn0LY1"
      }
    },
    {
      "cell_type": "markdown",
      "source": [
        "set adalah kumpulan item bersifat unik dan tanpa urutan (unordered collection). didefinisikan dengan kurawal dan elemennya dipisahkan dengan koma(,). Pada set kita dapat melakukan union dan intersection, sekaligus otomatis melakukan penghapusan data duplikat."
      ],
      "metadata": {
        "id": "5re_PegS0PJg"
      }
    },
    {
      "cell_type": "code",
      "source": [
        "#contoh set\n",
        "S1 = {1,\"dua\",True,2+3j}\n",
        "print(type(S1))"
      ],
      "metadata": {
        "id": "Cey3CZFg0x4r"
      },
      "execution_count": null,
      "outputs": []
    },
    {
      "cell_type": "code",
      "source": [
        "#sifat-sifat set \n",
        "#tidak terurut/unordered\n",
        "print(\"memanggil set S1 dengan indeks urutan :\",S1[0:3])"
      ],
      "metadata": {
        "id": "DY7MIDTI09i_"
      },
      "execution_count": null,
      "outputs": []
    },
    {
      "cell_type": "code",
      "source": [
        "#tidak bisa di gatni elemennya \n",
        "S1[1]=2\n",
        "print(\"memanggil set S1 setelah diganti elemenya :\",S1)\n"
      ],
      "metadata": {
        "id": "0cEKNFCj1MR1"
      },
      "execution_count": null,
      "outputs": []
    },
    {
      "cell_type": "code",
      "source": [
        "S1 = {1,\"dua \",True,2+3j}\n",
        "#dapat diindeks/slicing\n",
        "print(\"slicing set S1:\",S1[3])"
      ],
      "metadata": {
        "id": "zHjZQ_331f9l"
      },
      "execution_count": null,
      "outputs": []
    },
    {
      "cell_type": "code",
      "execution_count": null,
      "metadata": {
        "id": "l2YxVIHftVhg"
      },
      "outputs": [],
      "source": [
        "#dapat diijinkan duplikasi \n",
        "S1 = {1,\"dua\",True,True,2+3j,2+3j}#boolean tidak terbaca atau dianggap tidak ada\n",
        "print(\"duplikatsi pada set S1:\",S1)"
      ]
    },
    {
      "cell_type": "markdown",
      "source": [
        "latihan\n"
      ],
      "metadata": {
        "id": "hPebW-CLXESo"
      }
    },
    {
      "cell_type": "code",
      "source": [
        "#buatlah struktur data set mu sendiri\n",
        "a = {11,23,\"wildan\",\"mutiara\",True,11+23j}\n",
        "print(a)\n",
        "print(type(a))\n",
        "print(a[0:3])"
      ],
      "metadata": {
        "id": "VJzq7SQFXGFe"
      },
      "execution_count": null,
      "outputs": []
    }
  ]
}