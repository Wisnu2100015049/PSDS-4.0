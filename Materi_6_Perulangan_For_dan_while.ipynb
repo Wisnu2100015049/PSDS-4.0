{
  "nbformat": 4,
  "nbformat_minor": 0,
  "metadata": {
    "colab": {
      "name": " Materi 6_Perulangan_For_dan_while.ipynb",
      "provenance": []
    },
    "kernelspec": {
      "name": "python3",
      "display_name": "Python 3"
    },
    "language_info": {
      "name": "python"
    }
  },
  "cells": [
    {
      "cell_type": "markdown",
      "source": [
        "## looping/ perulangan"
      ],
      "metadata": {
        "id": "gLhaJvOODoo3"
      }
    },
    {
      "cell_type": "markdown",
      "source": [
        "python menyediakan dua statement untuk melakukan proses perulangan yaitu for dan while. diantara kedua statement ini secara umum for lebih umum digunakan dari pada while"
      ],
      "metadata": {
        "id": "xRyJivONEPUE"
      }
    },
    {
      "cell_type": "markdown",
      "source": [
        "#for looping"
      ],
      "metadata": {
        "id": "cTGllYjcDtYY"
      }
    },
    {
      "cell_type": "markdown",
      "source": [
        ""
      ],
      "metadata": {
        "id": "uKmRpW4ZDwF1"
      }
    },
    {
      "cell_type": "code",
      "execution_count": 2,
      "metadata": {
        "colab": {
          "base_uri": "https://localhost:8080/"
        },
        "id": "pbrizPt4vS7L",
        "outputId": "40227140-36db-4e1f-d3d5-13e3d2ae62f5"
      },
      "outputs": [
        {
          "output_type": "stream",
          "name": "stdout",
          "text": [
            "27\n"
          ]
        }
      ],
      "source": [
        "#program untuk menghitung jumlah semua angka dalam sebuah list\n",
        "L1 = [2,4,5,7,9]\n",
        "jumlah = 0\n",
        "\n",
        "#literasi didalam list\n",
        "for i in L1:\n",
        "  jumlah = jumlah +i\n",
        "\n",
        "print(jumlah)"
      ]
    },
    {
      "cell_type": "code",
      "source": [
        "# program untuk melakukan interasi di dalam list melalui indeks\n",
        "minuman = [\"teh\",\"boba\",\"kopi\",\"susu\"]\n",
        "p = len(minuman)\n",
        "\n",
        "#interaksi didalam list melalui indeks\n",
        "for i in range(p):\n",
        "  print(minuman[i])"
      ],
      "metadata": {
        "colab": {
          "base_uri": "https://localhost:8080/"
        },
        "id": "bRyE9o5vwQ3a",
        "outputId": "701e48fc-876c-4d5f-fcab-bc3eae005b2b"
      },
      "execution_count": 3,
      "outputs": [
        {
          "output_type": "stream",
          "name": "stdout",
          "text": [
            "teh\n",
            "boba\n",
            "kopi\n",
            "susu\n"
          ]
        }
      ]
    },
    {
      "cell_type": "code",
      "source": [
        "#contoh for loop menggunakanan else\n",
        "for i in range(p):\n",
        "  print(minuman[i])\n",
        "else:\n",
        "  print('element sudah habis')"
      ],
      "metadata": {
        "colab": {
          "base_uri": "https://localhost:8080/"
        },
        "id": "XyVbn5-EyKM8",
        "outputId": "2cba5fba-9f2b-44b3-f0f6-976e82be0b08"
      },
      "execution_count": 4,
      "outputs": [
        {
          "output_type": "stream",
          "name": "stdout",
          "text": [
            "teh\n",
            "boba\n",
            "kopi\n",
            "susu\n",
            "element sudah habis\n"
          ]
        }
      ]
    },
    {
      "cell_type": "markdown",
      "source": [
        "latihan 1"
      ],
      "metadata": {
        "id": "_LTR2jB6EUzy"
      }
    },
    {
      "cell_type": "code",
      "source": [
        "list_tagihan = [50000,75000,-150000,300000,-50000,200000]\n",
        "o = len(list_tagihan)\n",
        "total_tagihan = 0\n",
        "for i in range(o):\n",
        "  total_tagihan = total_tagihan + list_tagihan[i]\n",
        "  print(list_tagihan[i])\n",
        "else:\n",
        "  print('total tagihan adalah:',total_tagihan)"
      ],
      "metadata": {
        "colab": {
          "base_uri": "https://localhost:8080/"
        },
        "id": "npGiU3msyqem",
        "outputId": "59b121b9-b1e3-4cca-948a-9253c381c037"
      },
      "execution_count": 22,
      "outputs": [
        {
          "output_type": "stream",
          "name": "stdout",
          "text": [
            "50000\n",
            "75000\n",
            "-150000\n",
            "300000\n",
            "-50000\n",
            "200000\n",
            "total tagihan adalah: 425000\n"
          ]
        }
      ]
    },
    {
      "cell_type": "markdown",
      "source": [
        "#while "
      ],
      "metadata": {
        "id": "aRkxy-3fEZNx"
      }
    },
    {
      "cell_type": "code",
      "source": [
        "# program untuk menjumlahkan semua\n",
        "#bilangan asli hingga suku ke-n\n",
        "#jum = 1+2+3+...+n\n",
        "n = 10\n",
        "jumlah = 0\n",
        "i = 1\n",
        "while i <= n:\n",
        "  jumlah = jumlah + i\n",
        "  i=i+1\n",
        "else:\n",
        "  print(jumlah)"
      ],
      "metadata": {
        "colab": {
          "base_uri": "https://localhost:8080/"
        },
        "id": "2pgXpQuD1EA5",
        "outputId": "44bf6ad0-1064-4ea7-a6d5-6146b45d6a25"
      },
      "execution_count": 26,
      "outputs": [
        {
          "output_type": "stream",
          "name": "stdout",
          "text": [
            "55\n"
          ]
        }
      ]
    },
    {
      "cell_type": "code",
      "source": [
        "jum = 0\n",
        "i = 1\n",
        "while i <= n:\n",
        "  jum = jum + i\n",
        "  i=i+1\n",
        "else:\n",
        "  print(jum)"
      ],
      "metadata": {
        "colab": {
          "base_uri": "https://localhost:8080/"
        },
        "id": "W-Be281a5Iid",
        "outputId": "00994b77-ab8a-430f-8452-6fe66b5ed641"
      },
      "execution_count": 27,
      "outputs": [
        {
          "output_type": "stream",
          "name": "stdout",
          "text": [
            "55\n"
          ]
        }
      ]
    },
    {
      "cell_type": "markdown",
      "source": [
        "latihan 2"
      ],
      "metadata": {
        "id": "6YQuqv5iEdrA"
      }
    },
    {
      "cell_type": "code",
      "source": [
        "tagihan = [50000,75000,125000,300000,200000]\n",
        "o = len(tagihan)\n",
        "i = 0\n",
        "total_tagihan = 0\n",
        "while i < o:\n",
        "  total_tagihan = total_tagihan + tagihan[i]\n",
        "  print(tagihan[i])\n",
        "  i = i+1\n",
        "else:\n",
        "  print('total tagihan adalah:',total_tagihan)"
      ],
      "metadata": {
        "colab": {
          "base_uri": "https://localhost:8080/"
        },
        "id": "k0JM_vSK5emX",
        "outputId": "5f6101a0-3a7a-402c-bb76-e3b38400c9dd"
      },
      "execution_count": 4,
      "outputs": [
        {
          "output_type": "stream",
          "name": "stdout",
          "text": [
            "50000\n",
            "75000\n",
            "125000\n",
            "300000\n",
            "200000\n",
            "total tagihan adalah: 750000\n"
          ]
        }
      ]
    }
  ]
}