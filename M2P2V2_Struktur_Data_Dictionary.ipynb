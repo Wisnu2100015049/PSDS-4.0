{
  "nbformat": 4,
  "nbformat_minor": 0,
  "metadata": {
    "colab": {
      "name": "M2P2V2_Struktur_Data_Dictionary.ipynb",
      "provenance": []
    },
    "kernelspec": {
      "name": "python3",
      "display_name": "Python 3"
    },
    "language_info": {
      "name": "python"
    }
  },
  "cells": [
    {
      "cell_type": "markdown",
      "source": [
        "## dictionary"
      ],
      "metadata": {
        "id": "lfk1ue0T3cYS"
      }
    },
    {
      "cell_type": "markdown",
      "source": [
        "Dictionary pada python adalah kumpuk=lan padangan kunci-nalai(pair of key-value)yang bersifat tidak berurutan. Dictionary dapat digunakan untuk menyimpan data kecil hinga besar. Untuk mengakses datanya. kita harus mengetahui kuncinya (key). Pada pyhton, dictionary didefinisikan dengan kurawal dan tambahan definisi berikut \n",
        "\n",
        "*   Setiap elemen pair key-value dipisahkan dengan koma(,)\n",
        "*   key dan value dipisahkan dengan titik dua(:)\n",
        "*   key dan value dapat berupa tipe variabel/obyek apapun\n",
        "\n"
      ],
      "metadata": {
        "id": "GI9bl50T3jO3"
      }
    },
    {
      "cell_type": "code",
      "execution_count": 1,
      "metadata": {
        "id": "wxP2fQj73VA-"
      },
      "outputs": [],
      "source": [
        "L1 = [1,'dua',True,(2+3j),(2+3j)]"
      ]
    },
    {
      "cell_type": "code",
      "source": [
        "L1"
      ],
      "metadata": {
        "id": "sGAD6Avx5aKa",
        "colab": {
          "base_uri": "https://localhost:8080/"
        },
        "outputId": "f87897b8-0877-435b-dbc2-d56cc0149f2d"
      },
      "execution_count": 2,
      "outputs": [
        {
          "output_type": "execute_result",
          "data": {
            "text/plain": [
              "[1, 'dua', True, (2+3j), (2+3j)]"
            ]
          },
          "metadata": {},
          "execution_count": 2
        }
      ]
    },
    {
      "cell_type": "code",
      "source": [
        "#{'key',:'value'}\n",
        "#contoh dictionary\n",
        "D1 = {1:'value','key':2}\n",
        "print(D1)"
      ],
      "metadata": {
        "id": "RMzH4kQJ5bTH",
        "colab": {
          "base_uri": "https://localhost:8080/"
        },
        "outputId": "1c5cfa51-710d-4d45-c2cf-7b36307790d5"
      },
      "execution_count": 3,
      "outputs": [
        {
          "output_type": "stream",
          "name": "stdout",
          "text": [
            "{1: 'value', 'key': 2}\n"
          ]
        }
      ]
    },
    {
      "cell_type": "markdown",
      "source": [
        "# latihan1\n"
      ],
      "metadata": {
        "id": "47uaIgXfYWSQ"
      }
    },
    {
      "cell_type": "code",
      "source": [
        "wildan = {11:'HBD',\"mutiara\":23}\n",
        "print(wildan)"
      ],
      "metadata": {
        "colab": {
          "base_uri": "https://localhost:8080/"
        },
        "id": "9udPjEtuYYp0",
        "outputId": "494b4f19-fea9-4dc6-b255-9da0f24b4112"
      },
      "execution_count": 4,
      "outputs": [
        {
          "output_type": "stream",
          "name": "stdout",
          "text": [
            "{11: 'HBD', 'mutiara': 23}\n"
          ]
        }
      ]
    },
    {
      "cell_type": "code",
      "source": [
        "L1[0]"
      ],
      "metadata": {
        "id": "Zs5Hi3f_6J_r",
        "colab": {
          "base_uri": "https://localhost:8080/"
        },
        "outputId": "95bce8b2-071b-4d60-9793-0a6ad0741bee"
      },
      "execution_count": 5,
      "outputs": [
        {
          "output_type": "execute_result",
          "data": {
            "text/plain": [
              "1"
            ]
          },
          "metadata": {},
          "execution_count": 5
        }
      ]
    },
    {
      "cell_type": "code",
      "source": [
        "D1['key']"
      ],
      "metadata": {
        "id": "iU5FLrUZ6MS3",
        "colab": {
          "base_uri": "https://localhost:8080/"
        },
        "outputId": "27fa8507-f885-43b3-b563-93b1aef259da"
      },
      "execution_count": 6,
      "outputs": [
        {
          "output_type": "execute_result",
          "data": {
            "text/plain": [
              "2"
            ]
          },
          "metadata": {},
          "execution_count": 6
        }
      ]
    },
    {
      "cell_type": "code",
      "source": [
        "#memanggil elemen berdasarkan key\n",
        "print(\"D1['key']=\", D1['key'])"
      ],
      "metadata": {
        "id": "ODoFvHG86YAp",
        "colab": {
          "base_uri": "https://localhost:8080/"
        },
        "outputId": "6acfffc6-701e-41b9-f32b-b10555337f21"
      },
      "execution_count": 7,
      "outputs": [
        {
          "output_type": "stream",
          "name": "stdout",
          "text": [
            "D1['key']= 2\n"
          ]
        }
      ]
    },
    {
      "cell_type": "markdown",
      "source": [
        "Dictionary bukan termasuk dalam implementasi urutan(sequences), sehingga tidak bisa di panggil dengan indeks, misalnya dalam contoh berikut dengan indeks 2, tetapi menghasilkan eror(keyEror)karena tidak ada kunci (key)2:"
      ],
      "metadata": {
        "id": "70apwMhL60xh"
      }
    },
    {
      "cell_type": "code",
      "source": [
        "#nyobain eror\n",
        "print(\"d![2] = \",D1[2]);"
      ],
      "metadata": {
        "id": "nuOSXj5u7WkA",
        "colab": {
          "base_uri": "https://localhost:8080/",
          "height": 190
        },
        "outputId": "384f143c-d808-4909-a10b-f202521c3b90"
      },
      "execution_count": 8,
      "outputs": [
        {
          "output_type": "error",
          "ename": "KeyError",
          "evalue": "ignored",
          "traceback": [
            "\u001b[0;31m---------------------------------------------------------------------------\u001b[0m",
            "\u001b[0;31mKeyError\u001b[0m                                  Traceback (most recent call last)",
            "\u001b[0;32m<ipython-input-8-f4a36a832f37>\u001b[0m in \u001b[0;36m<module>\u001b[0;34m()\u001b[0m\n\u001b[1;32m      1\u001b[0m \u001b[0;31m#nyobain eror\u001b[0m\u001b[0;34m\u001b[0m\u001b[0;34m\u001b[0m\u001b[0;34m\u001b[0m\u001b[0m\n\u001b[0;32m----> 2\u001b[0;31m \u001b[0mprint\u001b[0m\u001b[0;34m(\u001b[0m\u001b[0;34m\"d![2] = \"\u001b[0m\u001b[0;34m,\u001b[0m\u001b[0mD1\u001b[0m\u001b[0;34m[\u001b[0m\u001b[0;36m2\u001b[0m\u001b[0;34m]\u001b[0m\u001b[0;34m)\u001b[0m\u001b[0;34m;\u001b[0m\u001b[0;34m\u001b[0m\u001b[0;34m\u001b[0m\u001b[0m\n\u001b[0m",
            "\u001b[0;31mKeyError\u001b[0m: 2"
          ]
        }
      ]
    },
    {
      "cell_type": "code",
      "source": [
        "D1[1]"
      ],
      "metadata": {
        "id": "C98foLOQ7vOu",
        "colab": {
          "base_uri": "https://localhost:8080/",
          "height": 36
        },
        "outputId": "e630aa2c-2126-40e9-94bc-2bf04c602b7d"
      },
      "execution_count": 9,
      "outputs": [
        {
          "output_type": "execute_result",
          "data": {
            "text/plain": [
              "'value'"
            ],
            "application/vnd.google.colaboratory.intrinsic+json": {
              "type": "string"
            }
          },
          "metadata": {},
          "execution_count": 9
        }
      ]
    },
    {
      "cell_type": "markdown",
      "source": [
        "#latihan2"
      ],
      "metadata": {
        "id": "Rtk9tO-gYv9c"
      }
    },
    {
      "cell_type": "code",
      "source": [
        "wildan[\"mutiara\"]"
      ],
      "metadata": {
        "colab": {
          "base_uri": "https://localhost:8080/"
        },
        "id": "l28zdeBPYK4B",
        "outputId": "f53ad89a-299b-4453-9525-85592c5244dc"
      },
      "execution_count": 10,
      "outputs": [
        {
          "output_type": "execute_result",
          "data": {
            "text/plain": [
              "23"
            ]
          },
          "metadata": {},
          "execution_count": 10
        }
      ]
    },
    {
      "cell_type": "code",
      "source": [
        "wildan[11]"
      ],
      "metadata": {
        "colab": {
          "base_uri": "https://localhost:8080/",
          "height": 36
        },
        "id": "TeaT5DXCZH1h",
        "outputId": "cdd1b8bc-48af-4ee2-edee-be259fd6e791"
      },
      "execution_count": 13,
      "outputs": [
        {
          "output_type": "execute_result",
          "data": {
            "text/plain": [
              "'HBD'"
            ],
            "application/vnd.google.colaboratory.intrinsic+json": {
              "type": "string"
            }
          },
          "metadata": {},
          "execution_count": 13
        }
      ]
    }
  ]
}