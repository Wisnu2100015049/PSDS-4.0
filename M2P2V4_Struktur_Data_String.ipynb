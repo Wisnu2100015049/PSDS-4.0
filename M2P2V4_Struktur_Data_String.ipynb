{
  "nbformat": 4,
  "nbformat_minor": 0,
  "metadata": {
    "colab": {
      "name": "M2P2V4_Struktur_Data_String.ipynb",
      "provenance": []
    },
    "kernelspec": {
      "name": "python3",
      "display_name": "Python 3"
    },
    "language_info": {
      "name": "python"
    }
  },
  "cells": [
    {
      "cell_type": "markdown",
      "source": [
        "## string"
      ],
      "metadata": {
        "id": "sMtd1qJf8IGT"
      }
    },
    {
      "cell_type": "markdown",
      "source": [
        "string di deklarasikan dengan di apit oleh tanda petik(bisa petik 1,2,3)"
      ],
      "metadata": {
        "id": "AwnU8JeY8M14"
      }
    },
    {
      "cell_type": "code",
      "source": [
        "#menampilakn string dengan fungsi print()\n",
        "print(\"hello word!\")"
      ],
      "metadata": {
        "colab": {
          "base_uri": "https://localhost:8080/"
        },
        "id": "wl1jpldT8WQV",
        "outputId": "275d3e53-a2f8-4c3d-fe5a-6f1a46ad65d4"
      },
      "execution_count": null,
      "outputs": [
        {
          "output_type": "stream",
          "name": "stdout",
          "text": [
            "hello word!\n"
          ]
        }
      ]
    },
    {
      "cell_type": "code",
      "execution_count": null,
      "metadata": {
        "colab": {
          "base_uri": "https://localhost:8080/"
        },
        "id": "16beSIY476fr",
        "outputId": "233d9f0a-4e75-4ee1-f0e8-98d05da787c5"
      },
      "outputs": [
        {
          "output_type": "stream",
          "name": "stdout",
          "text": [
            "Belajar struktur data string\n"
          ]
        }
      ],
      "source": [
        "#membuat variabel bertipe string\n",
        "A = \"Belajar struktur data string\"\n",
        "print(A)"
      ]
    },
    {
      "cell_type": "code",
      "source": [
        "#membuat variabel string multi-line dengan 3 petik\n",
        "B = \"\"\" Belajar \n",
        "python \n",
        "pejuang\n",
        "data 3.0\n",
        "PSDS \n",
        "string\"\"\"\n",
        "print(B)"
      ],
      "metadata": {
        "colab": {
          "base_uri": "https://localhost:8080/"
        },
        "id": "w1D0siWo8ptz",
        "outputId": "bb81ae6a-78ae-4890-9a1d-b19c1459ca3e"
      },
      "execution_count": null,
      "outputs": [
        {
          "output_type": "stream",
          "name": "stdout",
          "text": [
            " Belajar \n",
            "python \n",
            "pejuang\n",
            "data 3.0\n",
            "PSDS \n",
            "string\n"
          ]
        }
      ]
    },
    {
      "cell_type": "code",
      "source": [
        "#menampilkan karakter tertentu dalam string\n",
        "print(A[2])"
      ],
      "metadata": {
        "colab": {
          "base_uri": "https://localhost:8080/"
        },
        "id": "i3ZHs6Cs9Pa-",
        "outputId": "8e72f861-ff6a-48e6-a379-d653f7ca7b6c"
      },
      "execution_count": null,
      "outputs": [
        {
          "output_type": "stream",
          "name": "stdout",
          "text": [
            "l\n"
          ]
        }
      ]
    },
    {
      "cell_type": "code",
      "source": [
        "#slicing pada string\n",
        "A = \"Belajar struktur data string\"\n",
        "print(A[:5])\n",
        "print(A[3:])\n",
        "print(A[-5:])"
      ],
      "metadata": {
        "colab": {
          "base_uri": "https://localhost:8080/"
        },
        "id": "c38AN65D9uA1",
        "outputId": "c7e50ce5-6ea1-473b-8b13-4835e4c10ac2"
      },
      "execution_count": null,
      "outputs": [
        {
          "output_type": "stream",
          "name": "stdout",
          "text": [
            "Belaj\n",
            "ajar struktur data string\n",
            "tring\n"
          ]
        }
      ]
    },
    {
      "cell_type": "markdown",
      "source": [
        "latihan1"
      ],
      "metadata": {
        "id": "AzDHwFZjafJZ"
      }
    },
    {
      "cell_type": "code",
      "source": [
        "a = \"wildan adalah peserta PSDS kelas dasar\"\n",
        "print(a[1:5])\n",
        "print(a[8:12])\n",
        "print(a[15:20])\n",
        "print(a[22:24])\n",
        "print(a[27:30])\n",
        "print(a[33:36])"
      ],
      "metadata": {
        "colab": {
          "base_uri": "https://localhost:8080/"
        },
        "id": "tkr_sQe6agpY",
        "outputId": "5d7925a4-f538-473f-ac47-aafdb8dca044"
      },
      "execution_count": 3,
      "outputs": [
        {
          "output_type": "stream",
          "name": "stdout",
          "text": [
            "ilda\n",
            "dala\n",
            "esert\n",
            "PS\n",
            "kel\n",
            "das\n"
          ]
        }
      ]
    },
    {
      "cell_type": "markdown",
      "source": [
        "modifikasi string"
      ],
      "metadata": {
        "id": "KBoavc2kQs6I"
      }
    },
    {
      "cell_type": "code",
      "source": [
        "#upper\n",
        "A.upper()"
      ],
      "metadata": {
        "colab": {
          "base_uri": "https://localhost:8080/",
          "height": 36
        },
        "id": "G_3TDYooQz8P",
        "outputId": "f39b005a-2074-4557-cf93-73b3a17af72e"
      },
      "execution_count": null,
      "outputs": [
        {
          "output_type": "execute_result",
          "data": {
            "text/plain": [
              "'BELAJAR STRUKTUR DATA STRING'"
            ],
            "application/vnd.google.colaboratory.intrinsic+json": {
              "type": "string"
            }
          },
          "metadata": {},
          "execution_count": 24
        }
      ]
    },
    {
      "cell_type": "code",
      "source": [
        "#lower\n",
        "A.lower()"
      ],
      "metadata": {
        "colab": {
          "base_uri": "https://localhost:8080/",
          "height": 36
        },
        "id": "HXAhFl1tQv-l",
        "outputId": "78a39f93-5a1e-46aa-97b2-12c496e21ffa"
      },
      "execution_count": null,
      "outputs": [
        {
          "output_type": "execute_result",
          "data": {
            "text/plain": [
              "'belajar struktur data string'"
            ],
            "application/vnd.google.colaboratory.intrinsic+json": {
              "type": "string"
            }
          },
          "metadata": {},
          "execution_count": 25
        }
      ]
    },
    {
      "cell_type": "code",
      "source": [
        "#strip\n",
        "A.strip()\n"
      ],
      "metadata": {
        "colab": {
          "base_uri": "https://localhost:8080/",
          "height": 36
        },
        "id": "2X-Be0R9Q4oc",
        "outputId": "085fdfa6-871f-4c2b-97a8-8344573f6b5b"
      },
      "execution_count": null,
      "outputs": [
        {
          "output_type": "execute_result",
          "data": {
            "text/plain": [
              "'Belajar struktur data string'"
            ],
            "application/vnd.google.colaboratory.intrinsic+json": {
              "type": "string"
            }
          },
          "metadata": {},
          "execution_count": 26
        }
      ]
    },
    {
      "cell_type": "code",
      "source": [
        "#replace\n",
        "A.replace('l', 'd')"
      ],
      "metadata": {
        "colab": {
          "base_uri": "https://localhost:8080/",
          "height": 36
        },
        "id": "OS1mDgaZQ8hV",
        "outputId": "958982cd-4c43-46c4-b176-15bdfe64e3ce"
      },
      "execution_count": null,
      "outputs": [
        {
          "output_type": "execute_result",
          "data": {
            "text/plain": [
              "'Bedajar struktur data string'"
            ],
            "application/vnd.google.colaboratory.intrinsic+json": {
              "type": "string"
            }
          },
          "metadata": {},
          "execution_count": 27
        }
      ]
    },
    {
      "cell_type": "code",
      "source": [
        "#split\n",
        "A.split()"
      ],
      "metadata": {
        "colab": {
          "base_uri": "https://localhost:8080/"
        },
        "id": "quTEX1jkRKXB",
        "outputId": "f80b0dac-7271-414f-a829-392df98ac1aa"
      },
      "execution_count": null,
      "outputs": [
        {
          "output_type": "execute_result",
          "data": {
            "text/plain": [
              "['Belajar', 'struktur', 'data', 'string']"
            ]
          },
          "metadata": {},
          "execution_count": 28
        }
      ]
    },
    {
      "cell_type": "markdown",
      "source": [
        "menggabungkan string"
      ],
      "metadata": {
        "id": "d2F1MLuuRS8h"
      }
    },
    {
      "cell_type": "code",
      "source": [
        "A = 'Belajar struktur data string'\n",
        "B = \"pejuang data 3.0\"\n",
        "A + \" \" + B"
      ],
      "metadata": {
        "colab": {
          "base_uri": "https://localhost:8080/",
          "height": 36
        },
        "id": "IdrALVHIRVML",
        "outputId": "11ac10bd-7973-41d0-fcf6-eb56af0078b5"
      },
      "execution_count": null,
      "outputs": [
        {
          "output_type": "execute_result",
          "data": {
            "text/plain": [
              "'Belajar struktur data string pejuang data 3.0'"
            ],
            "application/vnd.google.colaboratory.intrinsic+json": {
              "type": "string"
            }
          },
          "metadata": {},
          "execution_count": 29
        }
      ]
    },
    {
      "cell_type": "markdown",
      "source": [
        "latihan2"
      ],
      "metadata": {
        "id": "G9zrpUkMbuCN"
      }
    },
    {
      "cell_type": "code",
      "source": [
        "a = a.replace('a','i')\n",
        "a"
      ],
      "metadata": {
        "colab": {
          "base_uri": "https://localhost:8080/",
          "height": 36
        },
        "id": "fUCH1lGFbvyC",
        "outputId": "ee3c72e4-7e46-4f13-c610-3e8cfbf3a1ba"
      },
      "execution_count": 9,
      "outputs": [
        {
          "output_type": "execute_result",
          "data": {
            "text/plain": [
              "'wildin idilih peserti PSDS kelis disir'"
            ],
            "application/vnd.google.colaboratory.intrinsic+json": {
              "type": "string"
            }
          },
          "metadata": {},
          "execution_count": 9
        }
      ]
    },
    {
      "cell_type": "code",
      "source": [
        "a = a.replace('u','i')\n",
        "a"
      ],
      "metadata": {
        "colab": {
          "base_uri": "https://localhost:8080/",
          "height": 36
        },
        "id": "kxHh1XE6ckN9",
        "outputId": "f801d655-7c77-4135-9fc7-15e1440d6fe0"
      },
      "execution_count": 10,
      "outputs": [
        {
          "output_type": "execute_result",
          "data": {
            "text/plain": [
              "'wildin idilih peserti PSDS kelis disir'"
            ],
            "application/vnd.google.colaboratory.intrinsic+json": {
              "type": "string"
            }
          },
          "metadata": {},
          "execution_count": 10
        }
      ]
    },
    {
      "cell_type": "code",
      "source": [
        "a = a.replace('e','i')\n",
        "a"
      ],
      "metadata": {
        "colab": {
          "base_uri": "https://localhost:8080/",
          "height": 36
        },
        "id": "TXdpXL4kc0cf",
        "outputId": "4cf692c7-57ae-47d6-c543-da4ec57b2001"
      },
      "execution_count": 11,
      "outputs": [
        {
          "output_type": "execute_result",
          "data": {
            "text/plain": [
              "'wildin idilih pisirti PSDS kilis disir'"
            ],
            "application/vnd.google.colaboratory.intrinsic+json": {
              "type": "string"
            }
          },
          "metadata": {},
          "execution_count": 11
        }
      ]
    }
  ]
}