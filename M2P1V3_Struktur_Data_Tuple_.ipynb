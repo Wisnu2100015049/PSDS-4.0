{
  "nbformat": 4,
  "nbformat_minor": 0,
  "metadata": {
    "colab": {
      "name": "M2P1V3_Struktur_Data_Tuple .ipynb",
      "provenance": []
    },
    "kernelspec": {
      "name": "python3",
      "display_name": "Python 3"
    },
    "language_info": {
      "name": "python"
    }
  },
  "cells": [
    {
      "cell_type": "markdown",
      "source": [
        "## struktur dasar tuple"
      ],
      "metadata": {
        "id": "T6PSmhkemcu-"
      }
    },
    {
      "cell_type": "markdown",
      "source": [
        "Tuple adalah jenis dari struktur data yang tidak dapat diubah elemennya. Umumnya tuple digunakan untuk data yang bersifat sekali tulis, dan dapat di eksekusi dengan lebih cepat. Tuple didefinisikan dengan kurung dan elemen yang dipisahkan dengan koma(,)"
      ],
      "metadata": {
        "id": "peAGojHGmj07"
      }
    },
    {
      "cell_type": "code",
      "execution_count": null,
      "metadata": {
        "colab": {
          "base_uri": "https://localhost:8080/"
        },
        "id": "r_f6fT52gPie",
        "outputId": "0d41520d-1c7c-41d8-e5be-af478a7b3c85"
      },
      "outputs": [
        {
          "output_type": "stream",
          "name": "stdout",
          "text": [
            "ini adalah tuple (1, 'dua', True, (1+2j))\n"
          ]
        }
      ],
      "source": [
        "# contoh tuple \n",
        "T1 = (1,\"dua\",True,1+2j)\n",
        "print(\"ini adalah tuple\",T1)"
      ]
    },
    {
      "cell_type": "code",
      "source": [
        "#menampilkan tipe data \n",
        "type(T1)"
      ],
      "metadata": {
        "colab": {
          "base_uri": "https://localhost:8080/"
        },
        "id": "CX0gqqb2oSMX",
        "outputId": "6dfc916c-4440-4cc0-d1d4-6e7a17801050"
      },
      "execution_count": null,
      "outputs": [
        {
          "output_type": "execute_result",
          "data": {
            "text/plain": [
              "tuple"
            ]
          },
          "metadata": {},
          "execution_count": 2
        }
      ]
    },
    {
      "cell_type": "markdown",
      "source": [
        "latihan 1"
      ],
      "metadata": {
        "id": "qw_pLwR-oosi"
      }
    },
    {
      "cell_type": "code",
      "source": [
        "#buatlah type tuple mu sendiri\n",
        "a = (22,\"kosong tiga\",False,11+29j,11+29j)\n",
        "print(a)\n",
        "type(a)"
      ],
      "metadata": {
        "colab": {
          "base_uri": "https://localhost:8080/"
        },
        "id": "AetgcjCQoqh5",
        "outputId": "1f825773-1f89-40c5-dd52-4f960306c5b2"
      },
      "execution_count": null,
      "outputs": [
        {
          "output_type": "stream",
          "name": "stdout",
          "text": [
            "(22, 'kosong tiga', False, (11+29j), (11+29j))\n"
          ]
        },
        {
          "output_type": "execute_result",
          "data": {
            "text/plain": [
              "tuple"
            ]
          },
          "metadata": {},
          "execution_count": 3
        }
      ]
    },
    {
      "cell_type": "markdown",
      "source": [
        "sifat-sifat tuple"
      ],
      "metadata": {
        "id": "EXxJLWOoo-a6"
      }
    },
    {
      "cell_type": "code",
      "source": [
        "#terurut/ordered\n",
        "T1[0:3]\n"
      ],
      "metadata": {
        "colab": {
          "base_uri": "https://localhost:8080/"
        },
        "id": "KroD5IZVpCdL",
        "outputId": "9899a583-f97e-4dd3-cccc-d398997ccefb"
      },
      "execution_count": null,
      "outputs": [
        {
          "output_type": "execute_result",
          "data": {
            "text/plain": [
              "(1, 'dua', True)"
            ]
          },
          "metadata": {},
          "execution_count": 4
        }
      ]
    },
    {
      "cell_type": "code",
      "source": [
        "#tidak bisa diganti/immutable\n",
        "T1[2]='manusia'\n"
      ],
      "metadata": {
        "colab": {
          "base_uri": "https://localhost:8080/",
          "height": 190
        },
        "id": "7rSoFaidsA3-",
        "outputId": "43f89542-869a-412b-a3b6-44403270b934"
      },
      "execution_count": null,
      "outputs": [
        {
          "output_type": "error",
          "ename": "TypeError",
          "evalue": "ignored",
          "traceback": [
            "\u001b[0;31m---------------------------------------------------------------------------\u001b[0m",
            "\u001b[0;31mTypeError\u001b[0m                                 Traceback (most recent call last)",
            "\u001b[0;32m<ipython-input-5-2888a5c0b9c5>\u001b[0m in \u001b[0;36m<module>\u001b[0;34m()\u001b[0m\n\u001b[1;32m      1\u001b[0m \u001b[0;31m#tidak bisa diganti/immutable\u001b[0m\u001b[0;34m\u001b[0m\u001b[0;34m\u001b[0m\u001b[0;34m\u001b[0m\u001b[0m\n\u001b[0;32m----> 2\u001b[0;31m \u001b[0mT1\u001b[0m\u001b[0;34m[\u001b[0m\u001b[0;36m2\u001b[0m\u001b[0;34m]\u001b[0m\u001b[0;34m=\u001b[0m\u001b[0;34m'manusia'\u001b[0m\u001b[0;34m\u001b[0m\u001b[0;34m\u001b[0m\u001b[0m\n\u001b[0m",
            "\u001b[0;31mTypeError\u001b[0m: 'tuple' object does not support item assignment"
          ]
        }
      ]
    },
    {
      "cell_type": "code",
      "source": [
        "#dapat diijinkan duplikasi\n",
        "T2 = (3,2.4,True,2.4)\n",
        "T2"
      ],
      "metadata": {
        "colab": {
          "base_uri": "https://localhost:8080/"
        },
        "id": "jDnwF1mHsKmg",
        "outputId": "d554e7bb-7e48-48b5-c75f-aa675e726592"
      },
      "execution_count": null,
      "outputs": [
        {
          "output_type": "execute_result",
          "data": {
            "text/plain": [
              "(3, 2.4, True, 2.4)"
            ]
          },
          "metadata": {},
          "execution_count": 6
        }
      ]
    },
    {
      "cell_type": "code",
      "source": [
        "#menggabungkan dua tuple\n",
        "T3 = T1 +T2\n",
        "T3"
      ],
      "metadata": {
        "colab": {
          "base_uri": "https://localhost:8080/"
        },
        "id": "BY7P3NNNsVZw",
        "outputId": "f8c8494f-2468-48c4-d486-5c75ddeb5e7a"
      },
      "execution_count": null,
      "outputs": [
        {
          "output_type": "execute_result",
          "data": {
            "text/plain": [
              "(1, 'dua', True, (1+2j), 3, 2.4, True, 2.4)"
            ]
          },
          "metadata": {},
          "execution_count": 7
        }
      ]
    },
    {
      "cell_type": "markdown",
      "source": [
        "latihan 2"
      ],
      "metadata": {
        "id": "yAufqu7ksd0Z"
      }
    },
    {
      "cell_type": "code",
      "source": [
        "#buatlah tuple kedua lalu gabungkan 2 tuple yang telah kamu buat\n",
        "b = (\"wildan\",11,\"mutiara\",11+23j)\n",
        "c = a+b\n",
        "c"
      ],
      "metadata": {
        "colab": {
          "base_uri": "https://localhost:8080/"
        },
        "id": "W0jqxuBZsfan",
        "outputId": "54e49991-de97-4920-d562-4f4e8e2c11d9"
      },
      "execution_count": null,
      "outputs": [
        {
          "output_type": "execute_result",
          "data": {
            "text/plain": [
              "(22,\n",
              " 'kosong tiga',\n",
              " False,\n",
              " (11+29j),\n",
              " (11+29j),\n",
              " 'wildan',\n",
              " 11,\n",
              " 'mutiara',\n",
              " (11+23j))"
            ]
          },
          "metadata": {},
          "execution_count": 10
        }
      ]
    }
  ]
}